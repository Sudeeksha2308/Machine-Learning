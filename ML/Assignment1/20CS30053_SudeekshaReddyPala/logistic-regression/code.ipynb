{
 "cells": [
  {
   "cell_type": "code",
   "execution_count": 13,
   "id": "680aee85",
   "metadata": {},
   "outputs": [],
   "source": [
    "import pandas as pd\n",
    "import numpy as np\n",
    "from sklearn.model_selection import train_test_split\n",
    "from sklearn.preprocessing import StandardScaler\n",
    "from sklearn.metrics import accuracy_score, precision_score, recall_score"
   ]
  },
  {
   "cell_type": "code",
   "execution_count": 14,
   "id": "3809b875",
   "metadata": {},
   "outputs": [],
   "source": [
    "# Load the data from the Excel file\n",
    "data = pd.read_excel(\"~/dataset/logistic-regression/Pumpkin_Seeds_Dataset.xlsx\")\n",
    "\n",
    "# Preprocess the data\n",
    "X = data.drop(columns=['Class'])\n",
    "y = (data['Class'] == 'Çerçevelik').astype(int)  # Convert 'Çerçevelik' to 1, else 0\n",
    "\n",
    "# Split the data into training, validation, and testing sets\n",
    "X_train, X_temp, y_train, y_temp = train_test_split(X, y, test_size=0.5, random_state=42)\n",
    "X_val, X_test, y_val, y_test = train_test_split(X_temp, y_temp, test_size=0.6, random_state=42)\n",
    "\n",
    "# Normalize/standardize the data\n",
    "scaler = StandardScaler()\n",
    "X_train_scaled = scaler.fit_transform(X_train)\n",
    "X_val_scaled = scaler.transform(X_val)\n",
    "X_test_scaled = scaler.transform(X_test)"
   ]
  },
  {
   "cell_type": "code",
   "execution_count": 15,
   "id": "c486d202",
   "metadata": {},
   "outputs": [],
   "source": [
    "# Implement Logistic Regression\n",
    "def sigmoid(z):\n",
    "    return 1 / (1 + np.exp(-z))\n",
    "\n",
    "def predict(X, weights):\n",
    "    z = np.dot(X, weights)\n",
    "    return sigmoid(z)\n",
    "\n",
    "def logistic_regression(X, y, learning_rate, num_iterations):\n",
    "    num_samples, num_features = X.shape\n",
    "    weights = np.zeros(num_features)\n",
    "    \n",
    "    for _ in range(num_iterations):\n",
    "        y_pred = predict(X, weights)\n",
    "        gradient = np.dot(X.T, (y_pred - y)) / num_samples\n",
    "        weights -= learning_rate * gradient\n",
    "    \n",
    "    return weights"
   ]
  },
  {
   "cell_type": "code",
   "execution_count": 16,
   "id": "baecc22b",
   "metadata": {},
   "outputs": [],
   "source": [
    "# Calculate accuracy, precision, and recall\n",
    "def calculate_metrics(y_true, y_pred):\n",
    "    y_pred_binary = (y_pred >= 0.5).astype(int)\n",
    "    accuracy = accuracy_score(y_true, y_pred_binary)\n",
    "    precision = precision_score(y_true, y_pred_binary, zero_division=1)\n",
    "    recall = recall_score(y_true, y_pred_binary, zero_division=1)\n",
    "    return accuracy, precision, recall"
   ]
  },
  {
   "cell_type": "code",
   "execution_count": 17,
   "id": "21f3758d",
   "metadata": {},
   "outputs": [],
   "source": [
    "def logistic_regression_calc(learning_rate,num_iterations):\n",
    "    weights = logistic_regression(X_train_scaled, y_train, learning_rate, num_iterations)\n",
    "\n",
    "    # Make predictions on test set\n",
    "    test_predictions = sigmoid(np.dot(X_test_scaled, weights))\n",
    "\n",
    "    test_accuracy, test_precision, test_recall = calculate_metrics(y_test, test_predictions)\n",
    "    print(f\"Test Data evaluation(Learning rate = {learning_rate} and Number of iterations = {num_iterations}):\")\n",
    "    print(\"Accuracy:\", test_accuracy)\n",
    "    print(\"Precision:\", test_precision)\n",
    "    print(\"Recall:\", test_recall)"
   ]
  },
  {
   "cell_type": "code",
   "execution_count": 18,
   "id": "2d47ff7b",
   "metadata": {},
   "outputs": [
    {
     "name": "stdout",
     "output_type": "stream",
     "text": [
      "Test Data evaluation(Learning rate = 0.01 and Number of iterations = 100):\n",
      "Accuracy: 0.8573333333333333\n",
      "Precision: 0.8601583113456465\n",
      "Recall: 0.8578947368421053\n"
     ]
    }
   ],
   "source": [
    "logistic_regression_calc(0.01,100)"
   ]
  },
  {
   "cell_type": "code",
   "execution_count": 19,
   "id": "1c752c44",
   "metadata": {},
   "outputs": [
    {
     "name": "stdout",
     "output_type": "stream",
     "text": [
      "Test Data evaluation(Learning rate = 0.001 and Number of iterations = 100):\n",
      "Accuracy: 0.8453333333333334\n",
      "Precision: 0.8473684210526315\n",
      "Recall: 0.8473684210526315\n"
     ]
    }
   ],
   "source": [
    "logistic_regression_calc(0.001,100)"
   ]
  },
  {
   "cell_type": "code",
   "execution_count": 20,
   "id": "7187e82e",
   "metadata": {},
   "outputs": [
    {
     "name": "stdout",
     "output_type": "stream",
     "text": [
      "Test Data evaluation(Learning rate = 0.0001 and Number of iterations = 100):\n",
      "Accuracy: 0.844\n",
      "Precision: 0.8469656992084432\n",
      "Recall: 0.8447368421052631\n"
     ]
    }
   ],
   "source": [
    "logistic_regression_calc(0.0001,100)"
   ]
  },
  {
   "cell_type": "code",
   "execution_count": 21,
   "id": "6ae1d99c",
   "metadata": {},
   "outputs": [
    {
     "name": "stdout",
     "output_type": "stream",
     "text": [
      "Test Data evaluation(Learning rate = 0.01 and Number of iterations = 200):\n",
      "Accuracy: 0.8586666666666667\n",
      "Precision: 0.8605263157894737\n",
      "Recall: 0.8605263157894737\n"
     ]
    }
   ],
   "source": [
    "logistic_regression_calc(0.01,200)"
   ]
  },
  {
   "cell_type": "code",
   "execution_count": 22,
   "id": "3a441d6e",
   "metadata": {},
   "outputs": [
    {
     "name": "stdout",
     "output_type": "stream",
     "text": [
      "Test Data evaluation(Learning rate = 0.001 and Number of iterations = 200):\n",
      "Accuracy: 0.8466666666666667\n",
      "Precision: 0.8496042216358839\n",
      "Recall: 0.8473684210526315\n"
     ]
    }
   ],
   "source": [
    "logistic_regression_calc(0.001,200)"
   ]
  },
  {
   "cell_type": "code",
   "execution_count": 23,
   "id": "871e89f9",
   "metadata": {},
   "outputs": [
    {
     "name": "stdout",
     "output_type": "stream",
     "text": [
      "Test Data evaluation(Learning rate = 0.0001 and Number of iterations = 200):\n",
      "Accuracy: 0.844\n",
      "Precision: 0.8469656992084432\n",
      "Recall: 0.8447368421052631\n"
     ]
    }
   ],
   "source": [
    "logistic_regression_calc(0.0001,200)"
   ]
  }
 ],
 "metadata": {
  "kernelspec": {
   "display_name": "Python 3 (ipykernel)",
   "language": "python",
   "name": "python3"
  },
  "language_info": {
   "codemirror_mode": {
    "name": "ipython",
    "version": 3
   },
   "file_extension": ".py",
   "mimetype": "text/x-python",
   "name": "python",
   "nbconvert_exporter": "python",
   "pygments_lexer": "ipython3",
   "version": "3.11.4"
  }
 },
 "nbformat": 4,
 "nbformat_minor": 5
}
