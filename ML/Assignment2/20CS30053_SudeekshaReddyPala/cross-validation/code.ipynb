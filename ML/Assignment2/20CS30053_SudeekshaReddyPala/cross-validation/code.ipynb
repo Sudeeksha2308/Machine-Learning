{
 "cells": [
  {
   "cell_type": "code",
   "execution_count": 20,
   "id": "ce71ab90",
   "metadata": {
    "scrolled": false
   },
   "outputs": [
    {
     "name": "stdout",
     "output_type": "stream",
     "text": [
      "Mean Accuracy: 0.7373118944547516\n",
      "Mean Precision: 0.795191803599134\n",
      "Mean Recall: 0.8389684680701743\n"
     ]
    }
   ],
   "source": [
    "import pandas as pd\n",
    "import numpy as np\n",
    "from sklearn.linear_model import LogisticRegression\n",
    "from sklearn.preprocessing import OneHotEncoder\n",
    "from sklearn.preprocessing import StandardScaler\n",
    "from sklearn.model_selection import train_test_split\n",
    "from sklearn.metrics import accuracy_score, precision_score, recall_score\n",
    "from sklearn.impute import SimpleImputer \n",
    "\n",
    "df = pd.read_csv('../../dataset/cross-validation.csv')\n",
    "\n",
    "# Split the dataset into features (X) and the target variable (y)\n",
    "y = (df['Loan_Status'] == 'Y').astype(int)\n",
    "X = df.drop('Loan_Status', axis=1)  \n",
    "\n",
    "# Encode categorical variables using one-hot encoding\n",
    "categorical_columns = ['Loan_ID', 'Gender', 'Married', 'Dependents', 'Education', 'Self_Employed', 'Property_Area']\n",
    "encoder = OneHotEncoder(sparse_output=False, drop='first')  # Set sparse_output=False\n",
    "X_encoded = encoder.fit_transform(X[categorical_columns])\n",
    "\n",
    "# Get the one-hot encoded feature names\n",
    "encoded_feature_names = encoder.get_feature_names_out(input_features=categorical_columns)\n",
    "\n",
    "X_encoded_df = pd.DataFrame(X_encoded, columns=encoded_feature_names)\n",
    "X = X.drop(categorical_columns, axis=1)\n",
    "X = pd.concat([X, X_encoded_df], axis=1)\n",
    "\n",
    "# Handle missing values using SimpleImputer (replace NaN with the mean of each column)\n",
    "imputer = SimpleImputer(strategy='mean')  # You can choose a different strategy if needed\n",
    "X = pd.DataFrame(imputer.fit_transform(X), columns=X.columns)\n",
    "\n",
    "# Split the dataset into 80% training and 20% testing\n",
    "X_train, X_test, y_train, y_test = train_test_split(X, y, test_size=0.2, random_state=42)\n",
    "\n",
    "# Scale the data using StandardScaler\n",
    "scaler = StandardScaler()\n",
    "X_train_scaled = scaler.fit_transform(X_train)\n",
    "X_test_scaled = scaler.transform(X_test)\n",
    "\n",
    "# Train a Logistic Regression model with Saga solver and no regularization\n",
    "model = LogisticRegression(solver='saga', penalty=None, max_iter=10000)  # Use penalty=None\n",
    "\n",
    "# Manually perform k-fold cross-validation and calculate evaluation measures\n",
    "k = 5  # Number of folds\n",
    "fold_size = len(X_train_scaled) // k\n",
    "accuracy_scores = []\n",
    "precision_scores = []\n",
    "recall_scores = []\n",
    "\n",
    "for i in range(k):\n",
    "    start = i * fold_size\n",
    "    end = (i + 1) * fold_size if i < k - 1 else len(X_train_scaled)\n",
    "\n",
    "    X_train_fold = np.concatenate([X_train_scaled[:start], X_train_scaled[end:]])\n",
    "    y_train_fold = np.concatenate([y_train[:start], y_train[end:]])\n",
    "\n",
    "    model.fit(X_train_fold, y_train_fold)\n",
    "\n",
    "    # Predict on the validation set\n",
    "    y_pred = model.predict(X_train_scaled[start:end])\n",
    "\n",
    "    # Calculate accuracy, precision, and recall for this fold\n",
    "    accuracy = np.mean(y_pred == y_train[start:end])\n",
    "    precision = np.sum((y_pred == 1) & (y_train[start:end] == 1)) / np.sum(y_pred == 1)\n",
    "    recall = np.sum((y_pred == 1) & (y_train[start:end] == 1)) / np.sum(y_train.iloc[start:end] == 1)\n",
    "\n",
    "    accuracy_scores.append(accuracy)\n",
    "    precision_scores.append(precision)\n",
    "    recall_scores.append(recall)\n",
    "\n",
    "# Calculate mean accuracy, precision, and recall\n",
    "mean_accuracy = np.mean(accuracy_scores)\n",
    "mean_precision = np.mean(precision_scores)\n",
    "mean_recall = np.mean(recall_scores)\n",
    "\n",
    "# Print the results\n",
    "print(\"Mean Accuracy:\", mean_accuracy)\n",
    "print(\"Mean Precision:\", mean_precision)\n",
    "print(\"Mean Recall:\", mean_recall)\n"
   ]
  }
 ],
 "metadata": {
  "kernelspec": {
   "display_name": "Python 3 (ipykernel)",
   "language": "python",
   "name": "python3"
  },
  "language_info": {
   "codemirror_mode": {
    "name": "ipython",
    "version": 3
   },
   "file_extension": ".py",
   "mimetype": "text/x-python",
   "name": "python",
   "nbconvert_exporter": "python",
   "pygments_lexer": "ipython3",
   "version": "3.11.4"
  }
 },
 "nbformat": 4,
 "nbformat_minor": 5
}
